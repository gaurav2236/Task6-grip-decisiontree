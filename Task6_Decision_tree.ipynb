{
  "nbformat": 4,
  "nbformat_minor": 0,
  "metadata": {
    "colab": {
      "name": "Task6_Decision tree.ipynb",
      "provenance": []
    },
    "kernelspec": {
      "name": "python3",
      "display_name": "Python 3"
    },
    "language_info": {
      "name": "python"
    }
  },
  "cells": [
    {
      "cell_type": "markdown",
      "metadata": {
        "id": "Di2zxwQ6jXTm"
      },
      "source": [
        "## Task 6: Prediction using Decision Tree Algorithm"
      ]
    },
    {
      "cell_type": "markdown",
      "metadata": {
        "id": "UBDRjT9GjnFc"
      },
      "source": [
        "## Name:Gaurav Pawar \n",
        "## Create the Decision Tree classifier and visualize it graphically"
      ]
    },
    {
      "cell_type": "markdown",
      "metadata": {
        "id": "zNLDKpMrkHvL"
      },
      "source": [
        "## **Importing libraries**"
      ]
    },
    {
      "cell_type": "code",
      "metadata": {
        "id": "6J8BPRmxkLxf"
      },
      "source": [
        "# Importing libraries in Python\n",
        "import sklearn.datasets as datasets\n",
        "import pandas as pd\n",
        "\n",
        "# Loading the iris dataset\n",
        "iris=datasets.load_iris()\n",
        "\n",
        "# Forming the iris dataframe\n",
        "df=pd.DataFrame(iris.data, columns=iris.feature_names)\n",
        "print(df.head(10))\n",
        "\n",
        "y=iris.target\n",
        "print(y)"
      ],
      "execution_count": null,
      "outputs": []
    },
    {
      "cell_type": "markdown",
      "metadata": {
        "id": "y1uajUNNkfaq"
      },
      "source": [
        "## **Define Decision Tree algorithm**"
      ]
    },
    {
      "cell_type": "code",
      "metadata": {
        "id": "WTzkopMAMD2j"
      },
      "source": [
        "# Defining the decision tree algorithm\n",
        "from sklearn.tree import DecisionTreeClassifier\n",
        "dtree=DecisionTreeClassifier()\n",
        "dtree.fit(df,y)\n",
        "\n",
        "print('Decision Tree Classifer Created')"
      ],
      "execution_count": null,
      "outputs": []
    },
    {
      "cell_type": "markdown",
      "metadata": {
        "id": "w-qpCBXOksxc"
      },
      "source": [
        "## **visualization**"
      ]
    },
    {
      "cell_type": "code",
      "metadata": {
        "id": "VsFsxpMXM6YT"
      },
      "source": [
        "# Install required libraries\n",
        "!pip install pydotplus\n",
        "!apt-get install graphviz -y"
      ],
      "execution_count": null,
      "outputs": []
    },
    {
      "cell_type": "code",
      "metadata": {
        "id": "5wuo0htok4FX"
      },
      "source": [
        "# Import necessary libraries for graph viz\n",
        "from sklearn.externals.six import StringIO  \n",
        "from IPython.display import Image  \n",
        "from sklearn.tree import export_graphviz\n",
        "import pydotplus\n",
        "\n",
        "# Visualize the graph\n",
        "dot_data = StringIO()\n",
        "export_graphviz(dtree, out_file=dot_data, feature_names=iris.feature_names,filled=True, rounded=True,\n",
        "                special_characters=True)\n",
        "graph = pydotplus.graph_from_dot_data(dot_data.getvalue())  \n",
        "Image(graph.create_png())"
      ],
      "execution_count": null,
      "outputs": []
    }
  ]
}